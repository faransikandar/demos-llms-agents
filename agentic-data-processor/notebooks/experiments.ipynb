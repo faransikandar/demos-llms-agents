{
 "cells": [
  {
   "cell_type": "markdown",
   "id": "860fc125",
   "metadata": {},
   "source": [
    "# Agentic Data Processor Experiment\n",
    "## Author: Faran Sikandar\n",
    "## Date: 2024-06\n",
    "\n",
    "WIP"
   ]
  },
  {
   "cell_type": "markdown",
   "id": "115a694f",
   "metadata": {},
   "source": [
    "from src.file_loader import load_file\n",
    "from src.rag_loader import load_data_dictionary\n",
    "from src.agent import generate_cleaning_code\n",
    "\n",
    "df = load_file(\"data/input/my_data.csv\")\n",
    "data_dict = load_data_dictionary(\"data_dictionary/customer_data.yaml\")\n",
    "\n",
    "user_command = \"Drop rows where status is null, convert signup_date to datetime, redact email\"\n",
    "code = generate_cleaning_code(user_command, data_dict)\n",
    "\n",
    "print(\"Generated code:\")\n",
    "print(code)\n",
    "\n",
    "# Optionally: eval code in a safe environment (careful!)\n",
    "exec(code)\n"
   ]
  }
 ],
 "metadata": {
  "language_info": {
   "name": "python"
  }
 },
 "nbformat": 4,
 "nbformat_minor": 5
}
